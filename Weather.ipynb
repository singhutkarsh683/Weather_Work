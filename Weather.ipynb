{
 "cells": [
  {
   "cell_type": "code",
   "execution_count": 12,
   "metadata": {},
   "outputs": [
    {
     "name": "stderr",
     "output_type": "stream",
     "text": [
      "usage: ipykernel_launcher.py [-h] [-c] [-l] [-i]\n",
      "ipykernel_launcher.py: error: unrecognized arguments: -f C:\\Users\\Utkarsh Singh\\AppData\\Roaming\\jupyter\\runtime\\kernel-cc392dbc-2507-449c-952f-89185294d0fb.json\n"
     ]
    },
    {
     "ename": "SystemExit",
     "evalue": "2",
     "output_type": "error",
     "traceback": [
      "An exception has occurred, use %tb to see the full traceback.\n",
      "\u001b[1;31mSystemExit\u001b[0m\u001b[1;31m:\u001b[0m 2\n"
     ]
    }
   ],
   "source": [
    "import requests,json\n",
    "import argparse\n",
    "\n",
    "parser = argparse.ArgumentParser()\n",
    "\n",
    "http_address = \"http://api.openweathermap.org/data/2.5/weather?\"\n",
    "api_address = \"&appid=26cfbcc357c62e2085cc390bd6006de2\"\n",
    "\n",
    "def weather(url):\n",
    "\n",
    "    result=requests.get(url)\n",
    "    x=result.json()\n",
    "\n",
    "    current_temp = x['main']['temp']\n",
    "    minimum_temp = x['main']['temp_min']\n",
    "    maximum_temp = x['main']['temp_max']\n",
    "    humidity = x['main']['humidity']\n",
    "    timezone = x['timezone']\n",
    "    z = x[\"weather\"]\n",
    "    weather_description = z[0][\"description\"]\n",
    "    name = x['name']\n",
    "\n",
    "\n",
    "    print(\"Current Temprature :\", current_temp, \"F\")\n",
    "    print(\"Minimum Temprature :\",minimum_temp, \"F\")\n",
    "    print(\"Maximum Temprature :\",maximum_temp, \"F\")\n",
    "    print(\"Humidity\", humidity,\"%\")\n",
    "    print(\"Time Zone : \", timezone)\n",
    "    print(\"Description = \" + str(weather_description))\n",
    "    print(\"Name of City = \", name)      \n",
    "\n",
    "def cityname():\n",
    "\n",
    "    city = input(\"City Name : \")\n",
    "\n",
    "    url = http_address +\"q=\"+ city + api_address\n",
    "    \n",
    "    weather(url)\n",
    "    \n",
    "\n",
    "def lonlat():\n",
    "\n",
    "    lat = input(\"Latitude (-90 to 90) : \")\n",
    "    lon = input(\"Longitude (-180 to 180) :\")\n",
    "    url = http_address + \"lat=\" + str(lat) + \"&lon=\" + str(lon) + api_address\n",
    "    zzz\n",
    "    weather(url)\n",
    "\n",
    "def current():\n",
    "    ip_request = requests.get('https://get.geojs.io/v1/ip.json')\n",
    "    my_ip = ip_request.json()['ip']\n",
    "    geo_request = requests.get('https://get.geojs.io/v1/ip/geo/' +my_ip + '.json')\n",
    "    geo_data = geo_request.json()\n",
    "    \n",
    "    url = http_address + \"lat=\" + str(geo_data['latitude']) + \"&lon=\" + str(geo_data['longitude']) + api_address\n",
    "    weather(url)\n",
    "    \n",
    "    \n",
    "parser.add_argument(\"-c\", \"--city_name\", help=\"Find Weather of City Name\",\n",
    "                   action = \"store_true\")\n",
    "\n",
    "parser.add_argument(\"-l\", \"--lon_lat\", help = \"Find weather of Longitude and Latitude\",\n",
    "                   action = \"store_true\")\n",
    "\n",
    "parser.add_argument(\"-i\", \"--current_ip\", help = \"Find weather of Longitude and Latitude\",\n",
    "                   action = \"store_true\")\n",
    "\n",
    "args= parser.parse_args()\n",
    "\n",
    "if args.city_name:\n",
    "    cityname()\n",
    "    \n",
    "if args.lon_lat:\n",
    "    lonlat()\n",
    "    \n",
    "if args.current_ip:\n",
    "    current()\n",
    "\n",
    "\n"
   ]
  },
  {
   "cell_type": "code",
   "execution_count": 10,
   "metadata": {},
   "outputs": [
    {
     "name": "stdout",
     "output_type": "stream",
     "text": [
      "{'latitude': '22.3397', 'longitude': '87.325'}\n"
     ]
    }
   ],
   "source": [
    "ip_request = requests.get('https://get.geojs.io/v1/ip.json')\n",
    "my_ip = ip_request.json()['ip']\n",
    "geo_request = requests.get('https://get.geojs.io/v1/ip/geo/' +my_ip + '.json')\n",
    "geo_data = geo_request.json()\n",
    "print({'latitude': geo_data['latitude'], 'longitude': geo_data['longitude']})"
   ]
  },
  {
   "cell_type": "code",
   "execution_count": null,
   "metadata": {},
   "outputs": [],
   "source": []
  }
 ],
 "metadata": {
  "kernelspec": {
   "display_name": "Python 3",
   "language": "python",
   "name": "python3"
  },
  "language_info": {
   "codemirror_mode": {
    "name": "ipython",
    "version": 3
   },
   "file_extension": ".py",
   "mimetype": "text/x-python",
   "name": "python",
   "nbconvert_exporter": "python",
   "pygments_lexer": "ipython3",
   "version": "3.7.4"
  }
 },
 "nbformat": 4,
 "nbformat_minor": 2
}
